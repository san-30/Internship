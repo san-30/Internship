{
 "cells": [
  {
   "cell_type": "markdown",
   "id": "24e7c564",
   "metadata": {},
   "source": [
    "# Regular Expression Assignment 2 (Sir scroll down for Assignment 1 written)"
   ]
  },
  {
   "cell_type": "code",
   "execution_count": 1,
   "id": "57fdd6f1",
   "metadata": {},
   "outputs": [
    {
     "name": "stdout",
     "output_type": "stream",
     "text": [
      "Python:Exercises::PHP:exercises:\n"
     ]
    }
   ],
   "source": [
    "# Write a Python program to replace all occurrences of a space, comma, or dot with a colon.\n",
    "# Sample Text- 'Python Exercises, PHP exercises.'\n",
    "# Expected Output: Python:Exercises::PHP:exercises:\n",
    "\n",
    "import regex as re\n",
    "\n",
    "string_1 = \"Python Exercises, PHP exercises.\"\n",
    "pattern_1 = r\",|\\.|\\s\"\n",
    "\n",
    "result = re.sub(pattern_1, r\":\", string_1)\n",
    "print(result)"
   ]
  },
  {
   "cell_type": "code",
   "execution_count": 43,
   "id": "19e6bea3",
   "metadata": {},
   "outputs": [
    {
     "name": "stdout",
     "output_type": "stream",
     "text": [
      "['a', 'e', 'a', 'e', 'a']\n"
     ]
    }
   ],
   "source": [
    "# Write a Python program to find all words starting with 'a' or 'e' in a given string.\n",
    "\n",
    "string_1 = \"I am solving the excercises of a python code using regular expression in this assignment\"\n",
    "pattern_1 = r\"\\ba|\\be\"\n",
    "\n",
    "result = re.findall(pattern_1, string_1)\n",
    "print(result)"
   ]
  },
  {
   "cell_type": "code",
   "execution_count": 44,
   "id": "69d12133",
   "metadata": {},
   "outputs": [
    {
     "name": "stdout",
     "output_type": "stream",
     "text": [
      "['solving', 'excercises', 'python', 'code', 'using', 'regular', 'expression', 'this', 'assignment']\n",
      "Done the given task\n"
     ]
    }
   ],
   "source": [
    "# Create a function in python to find all words that are at least 4 characters long in a string. \n",
    "# The use of the re.compile() method is mandatory.\n",
    "\n",
    "def findwords(string_1):\n",
    "    result = pattern_obj.findall(string_1)\n",
    "    print(result)\n",
    "\n",
    "string_1 = \"I am solving the excercises of a python code using regular expression in this assignment\"\n",
    "pattern_1 = r\"\\w{4,}\" \n",
    "pattern_obj = re.compile(pattern_1)\n",
    "\n",
    "findwords(string_1)\n",
    "print(\"Done the given task\")"
   ]
  },
  {
   "cell_type": "code",
   "execution_count": 47,
   "id": "b18af156",
   "metadata": {},
   "outputs": [
    {
     "name": "stdout",
     "output_type": "stream",
     "text": [
      "['solvi', 'the', 'excer', 'cises', 'pytho', 'code', 'using', 'regul', 'expre', 'ssion', 'this', 'assig', 'nment']\n",
      "Done the given task\n"
     ]
    }
   ],
   "source": [
    "# Create a function in python to find all three, four, and five character words in a string. \n",
    "# The use of the re.compile() method is mandatory.\n",
    "\n",
    "def findwords(string_1):\n",
    "    result = pattern_obj.findall(string_1)\n",
    "    print(result)\n",
    "\n",
    "string_1 = \"I am solving the excercises of a python code using regular expression in this assignment\"\n",
    "pattern_1 = r\"\\w{3,5}\" \n",
    "pattern_obj = re.compile(pattern_1)\n",
    "\n",
    "findwords(string_1)\n",
    "print(\"Done the given task\")"
   ]
  },
  {
   "cell_type": "code",
   "execution_count": 58,
   "id": "c42273f8",
   "metadata": {},
   "outputs": [
    {
     "name": "stdout",
     "output_type": "stream",
     "text": [
      "I am solving the regular expression assignment\n",
      "I am confident\n",
      "Lord Almighty is with me\n",
      "Done the given task\n"
     ]
    }
   ],
   "source": [
    "# Create a function in Python to remove the parenthesis in a list of strings. \n",
    "# The use of the re.compile() method is mandatory.\n",
    "\n",
    "def remove_parenthesis(string_1):\n",
    "   for i in string_1:\n",
    "    result = pattern_obj.sub(\"\", i)\n",
    "    print(result)\n",
    "\n",
    "string_1 = [\"I am solving the (regular expression) assignment\", \"I am (confident)\", \"(Lord Almighty) is with me\"]\n",
    "pattern_1 = r\"[()]\" \n",
    "pattern_obj = re.compile(pattern_1)\n",
    "\n",
    "remove_parenthesis(string_1)\n",
    "print(\"Done the given task\")"
   ]
  },
  {
   "cell_type": "code",
   "execution_count": 27,
   "id": "30b525af",
   "metadata": {},
   "outputs": [
    {
     "name": "stdout",
     "output_type": "stream",
     "text": [
      "example.com\n",
      "hr@fliprobo.com\n",
      "github.com\n",
      "Hello Data Science World\n",
      "Data Scientist\n",
      "Done the given task\n"
     ]
    }
   ],
   "source": [
    "# Create a function in Python to remove the parenthesis in a list of strings. \n",
    "# The use of the re.compile() method is mandatory.\n",
    "\n",
    "# Sample Text: [\"example (.com)\", \"hr@fliprobo (.com)\", \"github (.com)\", \"Hello (Data Science World)\", \"Data (Scientist)\"]\n",
    "# Expected Output:\n",
    "# example.com\n",
    "# hr@fliprobo.com\n",
    "# github.com\n",
    "# Hello Data Science World\n",
    "# Data Scientist\n",
    "\n",
    "\n",
    "def remove_parenthesis(string_1):\n",
    "   for i in string_1:\n",
    "    result = pattern_obj.sub(\"\", i)\n",
    "    print(result)\n",
    "\n",
    "string_1 = [\"example (.com)\", \"hr@fliprobo (.com)\", \"github (.com)\", \"Hello  (Data Science World)\", \"Data  (Scientist)\"]\n",
    "pattern_1 = r\" ?[()]\" \n",
    "pattern_obj = re.compile(pattern_1)\n",
    "\n",
    "remove_parenthesis(string_1)\n",
    "print(\"Done the given task\")"
   ]
  },
  {
   "cell_type": "code",
   "execution_count": 22,
   "id": "9078e9ca",
   "metadata": {},
   "outputs": [
    {
     "name": "stdout",
     "output_type": "stream",
     "text": [
      "[\"example\", \"hr@fliprobo\", \"github\", \"Hello\", \"Data\"]\n"
     ]
    }
   ],
   "source": [
    "# Write a python program to remove the parenthesis area from the text stored in the text file using Regular Expression.\n",
    "# Sample Text: [\"example (.com)\", \"hr@fliprobo (.com)\", \"github (.com)\", \"Hello (Data Science World)\", \"Data (Scientist)\"]\n",
    "# Expected Output: [\"example\", \"hr@fliprobo\", \"github\", \"Hello\", \"Data\"]\n",
    "# Note- Store given sample text in the text file and then to remove the parenthesis area from the text.\n",
    "\n",
    "import re\n",
    "with open('sample_file1.txt') as f:\n",
    "    string_1 = f.read()\n",
    "    out = re.sub(r\" ?\\([^)]+\\)\", \"\", string_1)\n",
    "print(out)"
   ]
  },
  {
   "cell_type": "code",
   "execution_count": 28,
   "id": "2e13b1fd",
   "metadata": {},
   "outputs": [
    {
     "name": "stdout",
     "output_type": "stream",
     "text": [
      "['Importance', 'Of', 'Regular', 'Expressions', 'In', 'Python']\n"
     ]
    }
   ],
   "source": [
    "# Write a regular expression in Python to split a string into uppercase letters.\n",
    "# Sample text: “ImportanceOfRegularExpressionsInPython”\n",
    "# Expected Output: [‘Importance’, ‘Of’, ‘Regular’, ‘Expression’, ‘In’, ‘Python’]\n",
    "\n",
    "\n",
    "string_1 = \"ImportanceOfRegularExpressionsInPython\"\n",
    "pattern_1 = r\"[A-Z][^A-Z]*\"\n",
    "\n",
    "result = re.findall(pattern_1, string_1)\n",
    "print(result)"
   ]
  },
  {
   "cell_type": "code",
   "execution_count": 59,
   "id": "968c5e63",
   "metadata": {},
   "outputs": [
    {
     "name": "stdout",
     "output_type": "stream",
     "text": [
      "RegularExpression 1IsAn 2ImportantTopic 3InPython\n",
      "Done the given task\n"
     ]
    }
   ],
   "source": [
    "# Create a function in python to insert spaces between words starting with numbers.\n",
    "# Sample Text: “RegularExpression1IsAn2ImportantTopic3InPython\"\n",
    "# Expected Output: RegularExpression 1IsAn 2ImportantTopic 3InPython\n",
    "\n",
    "\n",
    "def insert_space(string_1):\n",
    "    result = pattern_obj.sub(r'\\1 \\2', string_1)\n",
    "    print(result)\n",
    "\n",
    "string_1 = \"RegularExpression1IsAn2ImportantTopic3InPython\"\n",
    "pattern_1 = r\"([a-zA-Z])(\\d)\" \n",
    "\n",
    "pattern_obj = re.compile(pattern_1)\n",
    "\n",
    "insert_space(string_1)\n",
    "print(\"Done the given task\")"
   ]
  },
  {
   "cell_type": "code",
   "execution_count": 67,
   "id": "dfcca9e2",
   "metadata": {},
   "outputs": [
    {
     "name": "stdout",
     "output_type": "stream",
     "text": [
      "['RegularExpression', '1', 'IsAn', '2', 'ImportantTopic', '3', 'InPython']\n",
      "Done the given task\n"
     ]
    }
   ],
   "source": [
    "# Create a function in python to insert spaces between words starting with capital letters or \n",
    "# with numbers.\n",
    "# Sample Text: “RegularExpression1IsAn2ImportantTopic3InPython\"\n",
    "# Expected Output:  RegularExpression 1 IsAn 2 ImportantTopic 3 InPython\n",
    "\n",
    "\n",
    "def insert_space1(string_1):\n",
    "    result = pattern_obj.split(string_1)\n",
    "    print(result)\n",
    "\n",
    "string_1 = \"RegularExpression1IsAn2ImportantTopic3InPython\"\n",
    "pattern_1 = r\"(\\d)\" \n",
    "pattern_obj = re.compile(pattern_1)\n",
    "\n",
    "insert_space1(string_1)\n",
    "print(\"Done the given task\")"
   ]
  },
  {
   "cell_type": "code",
   "execution_count": 70,
   "id": "b3207554",
   "metadata": {},
   "outputs": [
    {
     "name": "stdout",
     "output_type": "stream",
     "text": [
      "['xyz@domain.com', 'xyz.abc@sdomain.domain.com']\n",
      "['hr@fliprobo.com']\n"
     ]
    }
   ],
   "source": [
    "# Write a python program to extract email address from the text stored in the text file using Regular Expression.\n",
    "# Sample Text- Hello my name is Data Science and my email address is xyz@domain.com and alternate email address is xyz.abc@sdomain.domain.com. \n",
    "# Please contact us at hr@fliprobo.com for further information. \n",
    "# Expected Output: \n",
    "# ['xyz@domain.com', 'xyz.abc@sdomain.domain.com'] \n",
    "# ['hr@fliprobo.com']\n",
    "\n",
    "# Note- Store given sample text in the text file and then extract email addresses.\n",
    "\n",
    "\n",
    "with open('sample_file2.txt') as f:\n",
    "    while True:\n",
    "        string_1 = f.readline()\n",
    "        if not string_1:\n",
    "            break\n",
    "        out = re.findall(r\"\\b[a-zA-Z0-9_\\.]+[@][a-zA-Z0-9_\\.]+[/.][a-z]{2,3}\\b\", string_1)\n",
    "        print(out)"
   ]
  },
  {
   "cell_type": "code",
   "execution_count": 71,
   "id": "4f9b6993",
   "metadata": {},
   "outputs": [
    {
     "name": "stdout",
     "output_type": "stream",
     "text": [
      "['Have', 'you', 'solved', '30', 'questions', 'Python', 'code', '_', 'using', 'Regular_Expression', 'in', 'this', 'assignment']\n"
     ]
    }
   ],
   "source": [
    "#Write a Python program to match a string that contains only upper and lowercase letters, \n",
    "# numbers, and underscores.\n",
    "\n",
    "import re\n",
    "\n",
    "string_1 = \"Have you solved 30 questions, Python code _ using Regular_Expression, in this assignment?\"\n",
    "pattern_1 = r\"\\w+\"\n",
    "\n",
    "result = re.findall(pattern_1, string_1)\n",
    "print(result)"
   ]
  },
  {
   "cell_type": "code",
   "execution_count": 72,
   "id": "af20edd8",
   "metadata": {},
   "outputs": [
    {
     "name": "stdout",
     "output_type": "stream",
     "text": [
      "<re.Match object; span=(0, 22), match='12345 How are you sir?'>\n"
     ]
    }
   ],
   "source": [
    "# Write a Python program where a string will start with a specific number. \n",
    "\n",
    "string_1 = \"12345 How are you sir?\"\n",
    "pattern_1 = r\"^\\d.+\"\n",
    "\n",
    "result = re.match(pattern_1, string_1)\n",
    "print(result)"
   ]
  },
  {
   "cell_type": "code",
   "execution_count": 73,
   "id": "68641e84",
   "metadata": {},
   "outputs": [
    {
     "name": "stdout",
     "output_type": "stream",
     "text": [
      "141.17.5.26\n"
     ]
    }
   ],
   "source": [
    "# Write a Python program to remove leading zeros from an IP address\n",
    "\n",
    "ip_address = \"141.017.005.26\"\n",
    "pattern_1 = r\"\\.[0]*\"\n",
    "\n",
    "result = re.sub(pattern_1, \".\", ip_address)\n",
    "print(result)"
   ]
  },
  {
   "cell_type": "code",
   "execution_count": 74,
   "id": "80e82ef7",
   "metadata": {},
   "outputs": [
    {
     "name": "stdout",
     "output_type": "stream",
     "text": [
      "August 15th 1947\n"
     ]
    }
   ],
   "source": [
    "# Write a regular expression in python to match a date string in the form of Month name followed \n",
    "# by day number and year stored in a text file.\n",
    "# Sample text :  ' On August 15th 1947 that India was declared independent from British colonialism, and the reins of control were handed over to the leaders of the Country’.\n",
    "# Expected Output- August 15th 1947\n",
    "# Note- Store given sample text in the text file and then extract the date string asked format.\n",
    "\n",
    "\n",
    "with open('sample_file3.txt') as f:\n",
    "    string_1 = f.read()\n",
    "    out = re.search(r\"[a-zA-Z]+\\s\\d{1,2}[a-z]{2}\\s\\d{4}\", string_1)\n",
    "    print(out.group())"
   ]
  },
  {
   "cell_type": "code",
   "execution_count": 96,
   "id": "72ff5bbb",
   "metadata": {},
   "outputs": [
    {
     "name": "stdout",
     "output_type": "stream",
     "text": [
      "['fox', 'dog', 'horse']\n"
     ]
    }
   ],
   "source": [
    "# Write a Python program to search some literals strings in a string. \n",
    "# Sample text : 'The quick brown fox jumps over the lazy dog.'\n",
    "# Searched words : 'fox', 'dog', 'horse'\n",
    "\n",
    "string_1 = \"The quick brown fox jumps over the lazy dog and horse saw this.\"\n",
    "pattern_1 = r\"fox|dog|horse\"\n",
    "\n",
    "result = re.findall(pattern_1, string_1)\n",
    "print(result)"
   ]
  },
  {
   "cell_type": "code",
   "execution_count": 75,
   "id": "9534ba9e",
   "metadata": {},
   "outputs": [
    {
     "name": "stdout",
     "output_type": "stream",
     "text": [
      "fox\n",
      "Location within the original string where the pattern occurs (16, 19)\n"
     ]
    }
   ],
   "source": [
    "# Write a Python program to search a literals string in a string and also find the location \n",
    "# within the original string where the pattern occurs\n",
    "# Sample text : 'The quick brown fox jumps over the lazy dog.'\n",
    "# Searched words : 'fox'\n",
    "\n",
    "string_1 = \"The quick brown fox jumps over the lazy dog.\"\n",
    "pattern_1 = r\"fox\"\n",
    "\n",
    "result = re.search(pattern_1, string_1)\n",
    "print(result.group())\n",
    "print(\"Location within the original string where the pattern occurs\", result.span())"
   ]
  },
  {
   "cell_type": "code",
   "execution_count": 15,
   "id": "61391657",
   "metadata": {},
   "outputs": [
    {
     "name": "stdout",
     "output_type": "stream",
     "text": [
      "['exercises', 'exercises', 'exercises']\n"
     ]
    }
   ],
   "source": [
    "# Write a Python program to find the substrings within a string.\n",
    "# Sample text : 'Python exercises, PHP exercises, C# exercises'\n",
    "# Pattern : 'exercises'.\n",
    "\n",
    "string_1 = 'Python exercises, PHP exercises, C# exercises'\n",
    "pattern_1 = r\"exercises\"\n",
    "\n",
    "result = re.findall(pattern_1, string_1)\n",
    "print(result)"
   ]
  },
  {
   "cell_type": "code",
   "execution_count": 79,
   "id": "90d821ea",
   "metadata": {},
   "outputs": [
    {
     "name": "stdout",
     "output_type": "stream",
     "text": [
      "match found -  brown\n",
      "Position of the substring (10, 15)\n"
     ]
    }
   ],
   "source": [
    "# Write a Python program to find the occurrence and position of the substrings within a string.\n",
    "\n",
    "string_1 = \"The quick brown fox jumps over the lazy dog.\"\n",
    "pattern_1 = r\"brown\"\n",
    "\n",
    "result = re.search(pattern_1, string_1)\n",
    "print(\"match found - \", result.group())\n",
    "print(\"Position of the substring\", result.span())"
   ]
  },
  {
   "cell_type": "code",
   "execution_count": 13,
   "id": "c43d27d4",
   "metadata": {},
   "outputs": [
    {
     "name": "stdout",
     "output_type": "stream",
     "text": [
      "23-08-2023\n"
     ]
    }
   ],
   "source": [
    "# Write a Python program to convert a date of yyyy-mm-dd format to dd-mm-yyyy format.\n",
    "\n",
    "\n",
    "string_1 = '2023-08-23'\n",
    "pattern_1 = r\"(\\d{4})-(\\d{1,2})-(\\d{1,2})\"\n",
    "\n",
    "result = re.sub(pattern_1, \"\\\\3-\\\\2-\\\\1\", string_1)\n",
    "print(result)"
   ]
  },
  {
   "cell_type": "code",
   "execution_count": 80,
   "id": "f33c6aea",
   "metadata": {},
   "outputs": [
    {
     "name": "stdout",
     "output_type": "stream",
     "text": [
      "['01.12', '145.8', '3.01', '27.25', '0.25']\n",
      "Done the given task\n"
     ]
    }
   ],
   "source": [
    "# Create a function in python to find all decimal numbers with a precision of 1 or 2 in a string. \n",
    "# The use of the re.compile() method is mandatory.\n",
    "# Sample Text: \"01.12 0132.123 2.31875 145.8 3.01 27.25 0.25\"\n",
    "# Expected Output: ['01.12', '145.8', '3.01', '27.25', '0.25']\n",
    "\n",
    "\n",
    "def find_decimalnumbers(string_1):\n",
    "    result = pattern_obj.findall(string_1)\n",
    "    print(result)\n",
    "\n",
    "string_1 = \"01.12 0132.123 2.31875 145.8 3.01 27.25 0.25\"\n",
    "pattern_1 = r\"([0-9]+\\.[0-9]{3,})\" \n",
    "pattern_2 = r\"([0-9]+\\.[0-9]{1,2})\" \n",
    "\n",
    "pattern_obj = re.compile(pattern_2)\n",
    "string_1 = re.sub(pattern_1, '', string_1)\n",
    "\n",
    "find_decimalnumbers(string_1)\n",
    "print(\"Done the given task\")"
   ]
  },
  {
   "cell_type": "code",
   "execution_count": 108,
   "id": "68c59d32",
   "metadata": {},
   "outputs": [
    {
     "name": "stdout",
     "output_type": "stream",
     "text": [
      "23\n",
      "Number position in a given string 16\n"
     ]
    }
   ],
   "source": [
    "# Write a Python program to separate and print the numbers and their position of a given string.\n",
    "\n",
    "string_1 = \"today's date is 23rd August\"\n",
    "pattern_1 = r\"\\b(\\d+)\"\n",
    "\n",
    "result = re.search(pattern_1, string_1)\n",
    "print(result.group())\n",
    "\n",
    "print(\"Number position in a given string\", result.start())"
   ]
  },
  {
   "cell_type": "code",
   "execution_count": 83,
   "id": "77043e7e",
   "metadata": {},
   "outputs": [
    {
     "name": "stdout",
     "output_type": "stream",
     "text": [
      "950\n"
     ]
    }
   ],
   "source": [
    "# Write a regular expression in python program to extract maximum/largest numeric value from a string.\n",
    "# Sample Text:  'My marks in each semester are: 947, 896, 926, 524, 734, 950, 642'\n",
    "# Expected Output: 950\n",
    "\n",
    "string_1 = 'My marks in each semester are: 947, 896, 926, 524, 734, 950, 642'\n",
    "pattern_1 = r\"\\d+\"\n",
    "\n",
    "result = re.findall(pattern_1, string_1)\n",
    "answer = map(int, result)\n",
    "print(max(answer))"
   ]
  },
  {
   "cell_type": "code",
   "execution_count": 84,
   "id": "0ff8abfd",
   "metadata": {},
   "outputs": [
    {
     "name": "stdout",
     "output_type": "stream",
     "text": [
      "Regular Expression Is An Important Topic In Python\n",
      "Done the given task\n"
     ]
    }
   ],
   "source": [
    "# Create a function in python to insert spaces between words starting with capital letters.\n",
    "# Sample Text: “RegularExpressionIsAnImportantTopicInPython\"\n",
    "# Expected Output: Regular Expression Is An Important Topic In Python\n",
    "\n",
    "def insert_space(string_1):\n",
    "    result = pattern_obj.sub(r\"\\1 \\2\", string_1)\n",
    "    print(result)\n",
    "\n",
    "string_1 = \"RegularExpressionIsAnImportantTopicInPython\"\n",
    "pattern_1 = r\"(\\w)([A-Z])\" \n",
    "\n",
    "pattern_obj = re.compile(pattern_1)\n",
    "\n",
    "insert_space(string_1)\n",
    "print(\"Done the given task\")"
   ]
  },
  {
   "cell_type": "code",
   "execution_count": 85,
   "id": "ad8bb580",
   "metadata": {},
   "outputs": [
    {
     "name": "stdout",
     "output_type": "stream",
     "text": [
      "['My', 'Ma', 'Ea', 'Se', 'Ou']\n"
     ]
    }
   ],
   "source": [
    "# Python regex to find sequences of one upper case letter followed by lower case letters\n",
    "\n",
    "string_1 = 'My Marks in Each Semester do YOu want to KNOW'\n",
    "pattern_1 = r\"[A-Z][a-z]\"\n",
    "\n",
    "result = re.findall(pattern_1, string_1)\n",
    "print(result)"
   ]
  },
  {
   "cell_type": "code",
   "execution_count": 111,
   "id": "9ae8371f",
   "metadata": {},
   "outputs": [
    {
     "name": "stdout",
     "output_type": "stream",
     "text": [
      "Hello hello world\n",
      "Done the given task\n"
     ]
    }
   ],
   "source": [
    "# Write a Python program to remove continuous duplicate words from Sentence using Regular Expression.\n",
    "# Sample Text: \"Hello hello world world\"\n",
    "# Expected Output: Hello hello world\n",
    "\n",
    "    \n",
    "string_1 = \"Hello hello world world\"\n",
    "pattern_1 = r\"\\b(\\w+)(?:\\W+\\1\\b)+\" \n",
    "\n",
    "pattern_obj = re.compile(pattern_1)\n",
    "\n",
    "result = pattern_obj.sub(r\"\\1\", string_1)\n",
    "print(result)\n",
    "print(\"Done the given task\")"
   ]
  },
  {
   "cell_type": "code",
   "execution_count": 87,
   "id": "e9ce46e6",
   "metadata": {},
   "outputs": [
    {
     "name": "stdout",
     "output_type": "stream",
     "text": [
      "Accept the string ending with Alphanumeric character -  abc123\n"
     ]
    }
   ],
   "source": [
    "# write a python program using RegEx to accept string ending with alphanumeric character.\n",
    "import re\n",
    "\n",
    "string_1 = \"abc123 is alphanumeric character\"\n",
    "pattern_1 = r\"[a-zA-Z]+[0-9]+\\b\"\n",
    "result = re.search(pattern_1, string_1)\n",
    "\n",
    "if(result):\n",
    "    print(\"Accept the string ending with Alphanumeric character - \", result.group())\n",
    "else:\n",
    "    print(\"Reject as the string does not end with Alphanumeric character\")"
   ]
  },
  {
   "cell_type": "code",
   "execution_count": 126,
   "id": "878cb3f1",
   "metadata": {},
   "outputs": [
    {
     "name": "stdout",
     "output_type": "stream",
     "text": [
      "['#Doltiwal', '#xyzabc', '#Demonetization']\n"
     ]
    }
   ],
   "source": [
    "# Write a python program using RegEx to extract the hashtags.\n",
    "# Sample Text:  \"\"\"RT @kapil_kausik: #Doltiwal I mean #xyzabc is \"hurt\" by #Demonetization as the same has rendered USELESS <ed><U+00A0><U+00BD><ed><U+00B1><U+0089> \"acquired funds\" No wo\"\"\"\n",
    "# Expected Output: ['#Doltiwal', '#xyzabc', '#Demonetization']\n",
    "\n",
    "string_1 = \"\"\"RT @kapil_kausik: #Doltiwal I mean #xyzabc is \"hurt\" by #Demonetization as the same has rendered USELESS <ed><U+00A0><U+00BD><ed><U+00B1><U+0089> \"acquired funds\" No wo\"\"\"\n",
    "pattern_1 = r\"[#]\\w+\"\n",
    "\n",
    "result = re.findall(pattern_1, string_1)\n",
    "print(result)"
   ]
  },
  {
   "cell_type": "code",
   "execution_count": 134,
   "id": "a8a603e4",
   "metadata": {},
   "outputs": [
    {
     "name": "stdout",
     "output_type": "stream",
     "text": [
      "@Jags123456 Bharat band on 28??<ed><ed>Those who  are protesting #demonetization  are all different party leaders\n"
     ]
    }
   ],
   "source": [
    "# Write a python program using RegEx to remove <U+..> like symbols\n",
    "# Check the below sample text, there are strange symbols something of the sort <U+..> all over the place. \n",
    "# You need to come up with a general Regex expression that will cover all such symbols.\n",
    "# Sample Text: \"@Jags123456 Bharat band on 28??<ed><U+00A0><U+00BD><ed><U+00B8><U+0082>Those who  are protesting #demonetization  are all different party leaders\"\n",
    "# Expected Output: @Jags123456 Bharat band on 28??<ed><ed>Those who  are protesting #demonetization  are all different party leaders\n",
    "\n",
    "string_1 = \"@Jags123456 Bharat band on 28??<ed><U+00A0><U+00BD><ed><U+00B8><U+0082>Those who  are protesting #demonetization  are all different party leaders\"\n",
    "pattern_1 = r\"(<U\\+....>)\"\n",
    "\n",
    "result = re.sub(pattern_1, '', string_1)\n",
    "print(result)"
   ]
  },
  {
   "cell_type": "code",
   "execution_count": 135,
   "id": "64eb0cd2",
   "metadata": {},
   "outputs": [
    {
     "name": "stdout",
     "output_type": "stream",
     "text": [
      "['12-09-1992', '15-12-1999']\n"
     ]
    }
   ],
   "source": [
    "# Write a python program to extract dates from the text stored in the text file.\n",
    "# Sample Text: Ron was born on 12-09-1992 and he was admitted to school 15-12-1999.\n",
    "# Note- Store this sample text in the file and then extract dates.\n",
    "\n",
    "\n",
    "with open('sample_file4.txt') as f:\n",
    "    string_1 = f.read()\n",
    "    out = re.findall(r\"[0-9]{1,2}[\\-]\\d{1,2}[\\-]\\d{4}\", string_1)\n",
    "    print(out)"
   ]
  },
  {
   "cell_type": "code",
   "execution_count": 88,
   "id": "772af540",
   "metadata": {},
   "outputs": [
    {
     "name": "stdout",
     "output_type": "stream",
     "text": [
      " following example creates  ArrayList  a capacity   elements. 4 elements   added   ArrayList   ArrayList  trimmed accordingly.\n",
      "Done the given task\n"
     ]
    }
   ],
   "source": [
    "# Create a function in python to remove all words from a string of length between 2 and 4.\n",
    "# The use of the re.compile() method is mandatory.\n",
    "# Sample Text: \"The following example creates an ArrayList with a capacity of 50 elements. 4 elements are then added to the ArrayList and the ArrayList is trimmed accordingly.\"\n",
    "# Expected Output:  following example creates ArrayList a capacity elements. 4 elements added ArrayList ArrayList trimmed accordingly.\n",
    "\n",
    "def remove_words(string_1):\n",
    "    result = pattern_obj.sub(\"\", string_1)\n",
    "    print(result)\n",
    "\n",
    "string_1 = \"The following example creates an ArrayList with a capacity of 50 elements. 4 elements are then added to the ArrayList and the ArrayList is trimmed accordingly.\"\n",
    "pattern_1 = r\"\\b\\w{2,4}\\b\" \n",
    "\n",
    "pattern_obj = re.compile(pattern_1)\n",
    "\n",
    "remove_words(string_1)\n",
    "print(\"Done the given task\")"
   ]
  },
  {
   "cell_type": "markdown",
   "id": "fe688c9b",
   "metadata": {},
   "source": [
    "# Regular Expression Assignment 1"
   ]
  },
  {
   "cell_type": "code",
   "execution_count": 89,
   "id": "040ec3d5",
   "metadata": {},
   "outputs": [
    {
     "name": "stdout",
     "output_type": "stream",
     "text": [
      "['R', 'e', 'g', 'u', 'l', 'a', 'r', 'e', 'x', 'p', 'r', 'e', 's', 's', 'i', 'o', 'n', 'A', 's', 's', 'i', 'g', 'n', 'm', 'e', 'n', 't', '4', '0', 'd', 'o', 'n', 'e']\n"
     ]
    }
   ],
   "source": [
    "# Write a RegEx pattern in python program to check that a string contains only a certain set of characters (in this case a-z, A-Z and 0-9).\n",
    "\n",
    "import re\n",
    "string_1 = \"Regular expression Assignment, 40 done\"\n",
    "pattern_1 = r\"[a-zA-Z0-9]\"\n",
    "\n",
    "result = re.findall(pattern_1, string_1)\n",
    "print(result)"
   ]
  },
  {
   "cell_type": "code",
   "execution_count": 90,
   "id": "7c035681",
   "metadata": {},
   "outputs": [
    {
     "name": "stdout",
     "output_type": "stream",
     "text": [
      "['a', 'ab', 'a', 'abb']\n"
     ]
    }
   ],
   "source": [
    "# Write a RegEx pattern that matches a string that has an a followed by zero or more b's\n",
    "\n",
    "string_1 = \"apple boy abnornal abb\"\n",
    "pattern_1 = r\"ab*\"\n",
    "\n",
    "result = re.findall(pattern_1, string_1)\n",
    "print(result)"
   ]
  },
  {
   "cell_type": "code",
   "execution_count": 91,
   "id": "cf042c3f",
   "metadata": {},
   "outputs": [
    {
     "name": "stdout",
     "output_type": "stream",
     "text": [
      "['ab', 'abb']\n"
     ]
    }
   ],
   "source": [
    "# Write a RegEx pattern that matches a string that has an a followed by one or more b's\n",
    "\n",
    "string_1 = \"apple boy abnornal abb\"\n",
    "pattern_1 = r\"ab+\"\n",
    "\n",
    "result = re.findall(pattern_1, string_1)\n",
    "print(result)"
   ]
  },
  {
   "cell_type": "code",
   "execution_count": 92,
   "id": "1a910532",
   "metadata": {},
   "outputs": [
    {
     "name": "stdout",
     "output_type": "stream",
     "text": [
      "['a', 'ab', 'a', 'ab']\n"
     ]
    }
   ],
   "source": [
    "# Write a RegEx pattern that matches a string that has an a followed by zero or one 'b'.\n",
    "\n",
    "string_1 = \"apple boy abnornal abb\"\n",
    "pattern_1 = r\"ab?\"\n",
    "\n",
    "result = re.findall(pattern_1, string_1)\n",
    "print(result)"
   ]
  },
  {
   "cell_type": "code",
   "execution_count": 93,
   "id": "00b98b32",
   "metadata": {},
   "outputs": [
    {
     "name": "stdout",
     "output_type": "stream",
     "text": [
      "['abbb']\n"
     ]
    }
   ],
   "source": [
    "# Write a RegEx pattern in python program that matches a string that has an a followed by three 'b'.\n",
    "\n",
    "string_1 = \"apple boy abnornal abb abbb and abbbb\"\n",
    "pattern_1 = r\"ab{3}\\b\"\n",
    "\n",
    "result = re.findall(pattern_1, string_1)\n",
    "print(result)"
   ]
  },
  {
   "cell_type": "code",
   "execution_count": 94,
   "id": "c289ec48",
   "metadata": {},
   "outputs": [
    {
     "name": "stdout",
     "output_type": "stream",
     "text": [
      "['abb', 'abbb']\n"
     ]
    }
   ],
   "source": [
    "# Write a RegEx pattern in python program that matches a string that has an a followed by two to three 'b'.\n",
    "\n",
    "string_1 = \"apple boy abnornal abb abbb and abbbb\"\n",
    "pattern_1 = r\"ab{2,3}\\b\"\n",
    "\n",
    "result = re.findall(pattern_1, string_1)\n",
    "print(result)"
   ]
  },
  {
   "cell_type": "code",
   "execution_count": 99,
   "id": "45d3a9a3",
   "metadata": {},
   "outputs": [
    {
     "name": "stdout",
     "output_type": "stream",
     "text": [
      "['abb', 'abbb', 'abbbb']\n"
     ]
    }
   ],
   "source": [
    "# Write a Python program that matches a string that has an 'a' followed by anything, ending in 'b'.\n",
    "\n",
    "string_1 = \"apple boy abnornal abb abbb and abbbb the\"\n",
    "pattern_1 = r\"a.b+\\b\"\n",
    "\n",
    "result = re.findall(pattern_1, string_1)\n",
    "print(result)"
   ]
  },
  {
   "cell_type": "code",
   "execution_count": 100,
   "id": "f77d244e",
   "metadata": {},
   "outputs": [
    {
     "name": "stdout",
     "output_type": "stream",
     "text": [
      "['apple']\n"
     ]
    }
   ],
   "source": [
    "# Write a RegEx pattern in python program that matches a word at the beginning of a string.\n",
    "\n",
    "string_1 = \"apple boy abnornal abb abbb and abbbb the\"\n",
    "pattern_1 = r\"^apple\"\n",
    "\n",
    "result = re.findall(pattern_1, string_1)\n",
    "print(result)"
   ]
  },
  {
   "cell_type": "code",
   "execution_count": 101,
   "id": "166a3a68",
   "metadata": {},
   "outputs": [
    {
     "name": "stdout",
     "output_type": "stream",
     "text": [
      "['the']\n"
     ]
    }
   ],
   "source": [
    "# Write a RegEx pattern in python program that matches a word at the end of a string.\n",
    "\n",
    "string_1 = \"apple boy abnornal abb abbb and abbbb the\"\n",
    "pattern_1 = r\"the$\"\n",
    "\n",
    "result = re.findall(pattern_1, string_1)\n",
    "print(result)"
   ]
  },
  {
   "cell_type": "code",
   "execution_count": 102,
   "id": "a3d19d0f",
   "metadata": {},
   "outputs": [
    {
     "name": "stdout",
     "output_type": "stream",
     "text": [
      "['0132', '1458', '2725']\n"
     ]
    }
   ],
   "source": [
    "# Write a RegEx pattern in python program to find all words that are 4 digits long in a string.\n",
    "# Sample text- '01 0132 231875 1458 301 2725.'\n",
    "# Expected output- ['0132', '1458', '2725']\n",
    "\n",
    "string_1 = \"01 0132 231875 1458 301 2725.\"\n",
    "pattern_1 = r\"\\b\\w{4}\\b\"\n",
    "\n",
    "result = re.findall(pattern_1, string_1)\n",
    "print(result)"
   ]
  },
  {
   "cell_type": "code",
   "execution_count": null,
   "id": "7b9ed5de",
   "metadata": {},
   "outputs": [],
   "source": []
  }
 ],
 "metadata": {
  "kernelspec": {
   "display_name": "Python 3 (ipykernel)",
   "language": "python",
   "name": "python3"
  },
  "language_info": {
   "codemirror_mode": {
    "name": "ipython",
    "version": 3
   },
   "file_extension": ".py",
   "mimetype": "text/x-python",
   "name": "python",
   "nbconvert_exporter": "python",
   "pygments_lexer": "ipython3",
   "version": "3.9.13"
  }
 },
 "nbformat": 4,
 "nbformat_minor": 5
}
